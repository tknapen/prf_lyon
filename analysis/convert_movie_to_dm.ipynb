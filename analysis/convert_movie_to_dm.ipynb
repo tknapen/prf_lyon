{
  "cells": [
    {
      "cell_type": "code",
      "source": [
        "import matplotlib.pyplot as plt\n",
        "import numpy as np\n",
        "import imageio\n",
        "from skimage.filters import gaussian, median, sobel\n",
        "\n%matplotlib inline"
      ],
      "outputs": [],
      "execution_count": 17,
      "metadata": {
        "collapsed": false,
        "outputHidden": false,
        "inputHidden": false
      }
    },
    {
      "cell_type": "code",
      "source": [
        "filename = '/Users/knapen/Desktop/prf_lyon/data/sub-01/behavior/rg_11_2019-03-08_12.23.12_TR_movie.mp4'\n",
        "\nvid = imageio.get_reader(filename,  'ffmpeg')"
      ],
      "outputs": [],
      "execution_count": 2,
      "metadata": {
        "collapsed": false,
        "outputHidden": false,
        "inputHidden": false
      }
    },
    {
      "cell_type": "code",
      "source": [
        "imgs = np.zeros((vid.get_length(),1680,1050))\n",
        "\n",
        "for vfi in range(vid.get_length()):\n",
        "    imgs[vfi] = vid.get_data(vfi).sum(-1).T"
      ],
      "outputs": [],
      "execution_count": 5,
      "metadata": {
        "collapsed": false,
        "outputHidden": false,
        "inputHidden": false
      }
    },
    {
      "cell_type": "code",
      "source": [
        "med_img = np.median(imgs,0)\n",
        "binarized_imgs = np.array([i!=med_img for i in imgs])\n",
        "plt.imshow(binarized_imgs[20])"
      ],
      "outputs": [
        {
          "output_type": "execute_result",
          "execution_count": 10,
          "data": {
            "text/plain": [
              "<matplotlib.image.AxesImage at 0x105837400>"
            ]
          },
          "metadata": {}
        },
        {
          "output_type": "display_data",
          "data": {
            "text/plain": [
              "<matplotlib.figure.Figure at 0x11db164e0>"
            ],
            "image/png": "[encoded data removed]"
          },
          "metadata": {}
        }
      ],
      "execution_count": 10,
      "metadata": {
        "collapsed": false,
        "outputHidden": false,
        "inputHidden": false
      }
    },
    {
      "cell_type": "code",
      "source": [
        "sm_bin_imgs = np.array([gaussian(i, 50) for i in binarized_imgs])\n",
        "plt.imshow(sm_bin_imgs[20])"
      ],
      "outputs": [
        {
          "output_type": "execute_result",
          "execution_count": 24,
          "data": {
            "text/plain": [
              "<matplotlib.image.AxesImage at 0x11def5b70>"
            ]
          },
          "metadata": {}
        },
        {
          "output_type": "display_data",
          "data": {
            "text/plain": [
              "<matplotlib.figure.Figure at 0x122fa1198>"
            ],
            "image/png": "[encoded data removed]"
          },
          "metadata": {}
        }
      ],
      "execution_count": 24,
      "metadata": {
        "collapsed": false,
        "outputHidden": false,
        "inputHidden": false
      }
    },
    {
      "cell_type": "code",
      "source": [
        "bin_sm_bin_imgs = sm_bin_imgs > 0.5\n",
        "plt.imshow(bin_sm_bin_imgs[20,::20,::20])"
      ],
      "outputs": [
        {
          "output_type": "execute_result",
          "execution_count": 26,
          "data": {
            "text/plain": [
              "<matplotlib.image.AxesImage at 0x124cd7cc0>"
            ]
          },
          "metadata": {}
        },
        {
          "output_type": "display_data",
          "data": {
            "text/plain": [
              "<matplotlib.figure.Figure at 0x123c4dcf8>"
            ],
            "image/png": "[encoded data removed]"
          },
          "metadata": {}
        }
      ],
      "execution_count": 26,
      "metadata": {
        "collapsed": false,
        "outputHidden": false,
        "inputHidden": false
      }
    },
    {
      "cell_type": "code",
      "source": [
        "np.save('/Users/knapen/Desktop/prf_lyon/data/sub-01/dm.npy', bin_sm_bin_imgs.astype(np.uint8))"
      ],
      "outputs": [],
      "execution_count": 43,
      "metadata": {}
    },
    {
      "cell_type": "code",
      "source": [
        "ssr = 10\n",
        "sub_sampled_dm = bin_sm_bin_imgs[:,::ssr,::ssr]\n",
        "sub_sampled_dm_out = np.zeros((sub_sampled_dm.shape[0],\n",
        "          sub_sampled_dm.shape[1],\n",
        "          sub_sampled_dm.shape[1]))\n",
        "border = int((sub_sampled_dm_out.shape[2] - sub_sampled_dm.shape[2])/2)\n",
        "sub_sampled_dm_out[:,:,border:border+sub_sampled_dm.shape[2]] = sub_sampled_dm"
      ],
      "outputs": [],
      "execution_count": 40,
      "metadata": {
        "collapsed": false,
        "outputHidden": false,
        "inputHidden": false
      }
    },
    {
      "cell_type": "code",
      "source": [
        "np.save('/Users/knapen/Desktop/prf_lyon/data/sub-01/dm_out.npy', sub_sampled_dm_out.astype(np.uint8))"
      ],
      "outputs": [],
      "execution_count": 42,
      "metadata": {
        "collapsed": false,
        "outputHidden": false,
        "inputHidden": false
      }
    },
    {
      "cell_type": "code",
      "source": [],
      "outputs": [],
      "execution_count": null,
      "metadata": {
        "collapsed": false,
        "outputHidden": false,
        "inputHidden": false
      }
    }
  ],
  "metadata": {
    "kernel_info": {
      "name": "py36"
    },
    "language_info": {
      "name": "python",
      "version": "3.6.2",
      "mimetype": "text/x-python",
      "codemirror_mode": {
        "name": "ipython",
        "version": 3
      },
      "pygments_lexer": "ipython3",
      "nbconvert_exporter": "python",
      "file_extension": ".py"
    },
    "kernelspec": {
      "name": "py36",
      "language": "python",
      "display_name": "Python (py36)"
    },
    "nteract": {
      "version": "0.12.3"
    }
  },
  "nbformat": 4,
  "nbformat_minor": 4
}